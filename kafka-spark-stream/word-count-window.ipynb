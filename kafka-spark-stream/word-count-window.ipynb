{
 "cells": [
  {
   "cell_type": "code",
   "execution_count": 1,
   "id": "68f36ffc-bdc1-49ad-94e4-5bbd4ea5ff65",
   "metadata": {},
   "outputs": [],
   "source": [
    "import os\n",
    "# save using vs code\n",
    "\n",
    "SCALA_VERSION = '2.11'\n",
    "SPARK_VERSION = '2.4.7'\n",
    "\n",
    "# Download Kafka Jar file, this for readStream.format(\"kafka\"), \"kafka\" is a driver\n",
    "# kafka driver code is part of Maven Jar file\n",
    "# https://mvnrepository.com/artifact/org.apache.spark/spark-sql-kafka-0-10_2.12/3.1.3\n",
    "# pyspark-shell shall download the jar file behind..\n",
    "os.environ['PYSPARK_SUBMIT_ARGS'] = f'--packages org.apache.spark:spark-sql-kafka-0-10_{SCALA_VERSION}:{SPARK_VERSION} pyspark-shell'\n"
   ]
  },
  {
   "cell_type": "code",
   "execution_count": 2,
   "id": "28bf3b9b-3f11-4c94-a647-836ecf215f25",
   "metadata": {},
   "outputs": [],
   "source": [
    "# connect kafka with spark with simple word count example\n",
    "# run on a terminal after starting kafka\n",
    "#     kafka-topics  --create --bootstrap-server localhost:9092 --replication-factor 1 --partitions 1 --topic words\n",
    "#     kafka-console-producer --bootstrap-server localhost:9092 --topic words\n",
    "\n",
    "\n",
    "# here we implement windowed word count, the word count would reset 10 minute, we fix  10 minute window, sliding 5 minutes\n",
    "\n",
    "#     kafka-topics  --create --bootstrap-server localhost:9092 --replication-factor 1 --partitions 1 --topic word-counts-10min \n",
    "#     kafka-console-consumer --bootstrap-server localhost:9092 --topic  word-counts-10min  --from-beginning  "
   ]
  },
  {
   "cell_type": "code",
   "execution_count": 3,
   "id": "1cb51c9a-4ece-452e-a821-0f3d427a16c2",
   "metadata": {},
   "outputs": [],
   "source": [
    "import findspark\n",
    "findspark.init()"
   ]
  },
  {
   "cell_type": "code",
   "execution_count": 4,
   "id": "0631a7d6-96d9-461f-a684-f73bc5ecd2e1",
   "metadata": {},
   "outputs": [],
   "source": [
    "import pyspark\n",
    "\n",
    "\n",
    "from pyspark.sql import SparkSession\n",
    "# spark groupBy has default setting for spark.sql.shuffle.partitions as 200\n",
    "# we set to  4, should NOT be done in production \n",
    "spark = SparkSession.builder.master(\"local[1]\")\\\n",
    "                            .config('spark.sql.shuffle.partitions', 4)\\\n",
    "                            .appName(\"SparkStreamingKafkaSlidingWindow\").getOrCreate()"
   ]
  },
  {
   "cell_type": "code",
   "execution_count": 5,
   "id": "c22bac95-4008-4b87-ae3b-9042340d5f60",
   "metadata": {},
   "outputs": [],
   "source": [
    "# read from kafka, here spark is consumer for kafka topic called test\n",
    "# spark streaming works as dataframe/sql\n",
    "# group.id is consumer group id\n",
    "# subcribe is kafka topic\n",
    "# \"kafka\" driver is not available by default with spark, we need to download it, we did on cell 1\n",
    "\n",
    "kafkaDf = spark.readStream.format(\"kafka\")\\\n",
    "  .option(\"kafka.bootstrap.servers\", \"localhost:9092\")\\\n",
    "  .option(\"subscribe\", \"words\")\\\n",
    "  .option(\"group.id\", \"wordcount-group-10min-sliding-window\")\\\n",
    "  .load()"
   ]
  },
  {
   "cell_type": "code",
   "execution_count": 6,
   "id": "8dc5bf70-fe02-4ba0-ba00-3e4de187a436",
   "metadata": {},
   "outputs": [
    {
     "name": "stdout",
     "output_type": "stream",
     "text": [
      "root\n",
      " |-- key: binary (nullable = true)\n",
      " |-- value: binary (nullable = true)\n",
      " |-- topic: string (nullable = true)\n",
      " |-- partition: integer (nullable = true)\n",
      " |-- offset: long (nullable = true)\n",
      " |-- timestamp: timestamp (nullable = true)\n",
      " |-- timestampType: integer (nullable = true)\n",
      "\n"
     ]
    }
   ],
   "source": [
    "# key and value are binary type, we need to CAST To STRING type\n",
    "kafkaDf.printSchema()\n",
    "# timestampType values\n",
    "# CreateTime:  Timestamp relates to message creation time as set by a Kafka client/producer\n",
    "# LogAppendTime : Timestamp relates to the time a message was appended to a Kafka log.\n",
    "# UnknownType"
   ]
  },
  {
   "cell_type": "code",
   "execution_count": 7,
   "id": "32f25a1c-fe2e-4b5e-bba8-4d70ab59d24c",
   "metadata": {},
   "outputs": [
    {
     "name": "stdout",
     "output_type": "stream",
     "text": [
      "root\n",
      " |-- value: string (nullable = true)\n",
      " |-- timestamp: timestamp (nullable = true)\n",
      "\n"
     ]
    }
   ],
   "source": [
    "# Kafka value, key are in binary format\n",
    "# we need to type cast to STRING, \n",
    "# we pick only value, timestamp as we need for 10 minute window\n",
    "linesDf = kafkaDf.selectExpr(\"CAST(value AS STRING)\", \"timestamp\")\n",
    "linesDf.printSchema() # we get only value as string"
   ]
  },
  {
   "cell_type": "code",
   "execution_count": 8,
   "id": "2feee558-2ed8-491e-b346-8cc69d98ac6d",
   "metadata": {},
   "outputs": [
    {
     "name": "stdout",
     "output_type": "stream",
     "text": [
      "root\n",
      " |-- word: string (nullable = true)\n",
      " |-- timestamp: timestamp (nullable = true)\n",
      "\n",
      "root\n",
      " |-- word: string (nullable = true)\n",
      " |-- window: struct (nullable = true)\n",
      " |    |-- start: timestamp (nullable = true)\n",
      " |    |-- end: timestamp (nullable = true)\n",
      " |-- count: long (nullable = false)\n",
      "\n"
     ]
    }
   ],
   "source": [
    "# SLIDING WINDOW \n",
    "# Also known as HOPPING WINDOW\n",
    "#   duplicate data processing\n",
    "# window(\"10 minutes\", \"5 minutes\") Sliding Window\n",
    "\n",
    "import pyspark.sql.functions as F\n",
    "# split line into word list\n",
    "# flatten word list into individual element as output, similar to flatMap\n",
    "\n",
    "wordsDf = linesDf.select(F.explode(F.split(linesDf.value,\" \")).alias(\"word\"), \"timestamp\" )\n",
    "wordsDf.printSchema()\n",
    "# apply 10 Minute Window\n",
    "# groupBy can be useful to mention more columns, we are 10 minute window as another group by\n",
    "# within minute, the count start from 0, goes on based on number words\n",
    "# Slide Window\n",
    "wordCountsDf = wordsDf.groupBy(\"word\", F.window(wordsDf.timestamp, \"10 minutes\", \"5 minutes\")).count()\n",
    "wordCountsDf.printSchema()"
   ]
  },
  {
   "cell_type": "code",
   "execution_count": 9,
   "id": "5ddbc0a5-c881-4e2d-aa43-c7657be2ca60",
   "metadata": {},
   "outputs": [
    {
     "name": "stdout",
     "output_type": "stream",
     "text": [
      "root\n",
      " |-- value: string (nullable = true)\n",
      "\n"
     ]
    }
   ],
   "source": [
    "# now publish the word count result (word, count columns) to kafka topic \"word-counts\", publish as json format\n",
    "# {\"word\": \"kafka\", \"count\": 8}\n",
    "\n",
    "# F is alias for all functions, we can access col by F.col \n",
    "import pyspark.sql.functions as F\n",
    "\n",
    "# convert all the columns into json\n",
    "# * represent all columns ie word, count, \n",
    "# struct create a structure around word, count columns\n",
    "# to json convert structure to column\n",
    "# value is Kafka value part of message\n",
    "wordCountsToKafkaDf = wordCountsDf\\\n",
    "                    .selectExpr(\"to_json(struct(*)) as value\")\n",
    "\n",
    "wordCountsToKafkaDf.printSchema()"
   ]
  },
  {
   "cell_type": "code",
   "execution_count": 10,
   "id": "fcc9377e-12c9-482c-a66a-b035cf267bbf",
   "metadata": {},
   "outputs": [
    {
     "data": {
      "text/plain": [
       "<pyspark.sql.streaming.StreamingQuery at 0x21381fec1c8>"
      ]
     },
     "execution_count": 10,
     "metadata": {},
     "output_type": "execute_result"
    }
   ],
   "source": [
    "# checkpointLocation is for storing local state, for system restart, system failure in between\n",
    "# ensure to run kafka console consumer for topic \"word-counts-5min, commands are present in top of file\n",
    "wordCountsToKafkaDf.writeStream.format(\"kafka\")\\\n",
    "                    .outputMode(\"complete\")\\\n",
    "                     .option(\"kafka.bootstrap.servers\", \"localhost:9092\")\\\n",
    "                    .option(\"topic\", \"word-counts-10min\")\\\n",
    "                    .option(\"checkpointLocation\", \"file:///tmp/spark20\")\\\n",
    "                    .start()"
   ]
  },
  {
   "cell_type": "code",
   "execution_count": 11,
   "id": "5c2e6301-b97f-4346-aacc-8e407aee04dd",
   "metadata": {},
   "outputs": [],
   "source": [
    "echoOnconsole = wordCountsDf\\\n",
    "                .writeStream\\\n",
    "                .outputMode(\"complete\")\\\n",
    "                .format(\"console\")\\\n",
    " .option(\"checkpointLocation\", \"file:///tmp/spark21\")\\\n",
    "                .start() # start the query. spark will subscribe for data"
   ]
  },
  {
   "cell_type": "code",
   "execution_count": null,
   "id": "f7710e72-9d5b-42a1-9592-b0a36bd8aede",
   "metadata": {},
   "outputs": [],
   "source": []
  }
 ],
 "metadata": {
  "kernelspec": {
   "display_name": "Python 3 (ipykernel)",
   "language": "python",
   "name": "python3"
  },
  "language_info": {
   "codemirror_mode": {
    "name": "ipython",
    "version": 3
   },
   "file_extension": ".py",
   "mimetype": "text/x-python",
   "name": "python",
   "nbconvert_exporter": "python",
   "pygments_lexer": "ipython3",
   "version": "3.7.10"
  }
 },
 "nbformat": 4,
 "nbformat_minor": 5
}
