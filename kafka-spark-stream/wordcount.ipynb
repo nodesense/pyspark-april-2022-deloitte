{
 "cells": [
  {
   "cell_type": "code",
   "execution_count": 1,
   "id": "5cd61f63-3a26-4dac-9679-851773e77948",
   "metadata": {},
   "outputs": [],
   "source": [
    "import os\n",
    "\n",
    "\n",
    "\n",
    "SCALA_VERSION = '2.11'\n",
    "SPARK_VERSION = '2.4.7'\n",
    "\n",
    "os.environ['PYSPARK_SUBMIT_ARGS'] = f'--packages org.apache.spark:spark-sql-kafka-0-10_{SCALA_VERSION}:{SPARK_VERSION} pyspark-shell'\n",
    "\n",
    "\n",
    "import findspark\n",
    "findspark.init() # Shift + Enter"
   ]
  },
  {
   "cell_type": "code",
   "execution_count": 2,
   "id": "4856d67c-dc91-4920-8f84-61f56df9d64f",
   "metadata": {},
   "outputs": [],
   "source": [
    "import pyspark\n",
    "\n",
    "from pyspark.sql import SparkSession\n",
    "spark = SparkSession.builder.master(\"local[*]\")\\\n",
    " .config('spark.sql.shuffle.partitions', 4)\\\n",
    "                            .appName(\"SparkWordCountStreamKafka\").getOrCreate()\n",
    "\n"
   ]
  },
  {
   "cell_type": "code",
   "execution_count": 3,
   "id": "21340ee6-1a97-46ec-8463-7ea43ad24d1e",
   "metadata": {},
   "outputs": [],
   "source": [
    "# read from kafka, here spark is consumer for kafka topic called words\n",
    "# spark streaming works as dataframe/sql\n",
    "# group.id is consumer group id\n",
    "# subcribe is kafka topic\n",
    "# \"kafka\" driver is not available by default with spark, we need to download it, we did on cell 1\n",
    "\n",
    "kafkaDf = spark.readStream.format(\"kafka\")\\\n",
    "  .option(\"kafka.bootstrap.servers\", \"localhost:9092\")\\\n",
    "  .option(\"subscribe\", \"words\")\\\n",
    "  .option(\"group.id\", \"wordcount-group\")\\\n",
    "  .load()"
   ]
  },
  {
   "cell_type": "code",
   "execution_count": 4,
   "id": "e087109a-feaa-4c6f-aaed-4e6aea945fd6",
   "metadata": {},
   "outputs": [
    {
     "name": "stdout",
     "output_type": "stream",
     "text": [
      "root\n",
      " |-- key: binary (nullable = true)\n",
      " |-- value: binary (nullable = true)\n",
      " |-- topic: string (nullable = true)\n",
      " |-- partition: integer (nullable = true)\n",
      " |-- offset: long (nullable = true)\n",
      " |-- timestamp: timestamp (nullable = true)\n",
      " |-- timestampType: integer (nullable = true)\n",
      "\n"
     ]
    }
   ],
   "source": [
    "# key and value are binary type, we need to CAST To STRING type\n",
    "kafkaDf.printSchema()\n",
    "# timestampType values\n",
    "# CreateTime:  Timestamp relates to message creation time as set by a Kafka client/producer\n",
    "# LogAppendTime : Timestamp relates to the time a message was appended to a Kafka log.\n",
    "# UnknownType"
   ]
  },
  {
   "cell_type": "code",
   "execution_count": 5,
   "id": "338bf447-ae5b-469c-91af-5b1eac2e81df",
   "metadata": {},
   "outputs": [
    {
     "name": "stdout",
     "output_type": "stream",
     "text": [
      "root\n",
      " |-- value: string (nullable = true)\n",
      "\n"
     ]
    }
   ],
   "source": [
    "# Kafka value, key are in binary format\n",
    "# we need to type cast to STRING, \n",
    "# we pick only value, ignore other column\n",
    "linesDf = kafkaDf.selectExpr(\"CAST(value AS STRING)\")\n",
    "linesDf.printSchema() # we get only value as string"
   ]
  },
  {
   "cell_type": "code",
   "execution_count": 6,
   "id": "8ac807a0-e9ed-479c-8377-7606a5644626",
   "metadata": {},
   "outputs": [
    {
     "name": "stdout",
     "output_type": "stream",
     "text": [
      "root\n",
      " |-- word: string (nullable = true)\n",
      " |-- count: long (nullable = false)\n",
      "\n"
     ]
    }
   ],
   "source": [
    "import pyspark.sql.functions as F\n",
    "# split line into word list\n",
    "# flatten word list into individual element as output, similar to flatMap\n",
    "\n",
    "wordsDf = linesDf.select(F.explode(F.split(linesDf.value,\" \")).alias(\"word\") )\n",
    "\n",
    "wordCountsDf = wordsDf.groupBy(\"word\").count()\n",
    "wordCountsDf.printSchema()"
   ]
  },
  {
   "cell_type": "code",
   "execution_count": 7,
   "id": "d0cfa212-f6ca-4786-aa49-8d6ca0f2f09c",
   "metadata": {},
   "outputs": [],
   "source": [
    "echoOnconsole = wordCountsDf\\\n",
    "                .writeStream\\\n",
    "                .outputMode(\"complete\")\\\n",
    "                .format(\"console\")\\\n",
    "                 .option(\"checkpointLocation\", \"file:///tmp/spark3\")\\\n",
    "                .start() # start the query. spark will subscribe for data"
   ]
  },
  {
   "cell_type": "code",
   "execution_count": 8,
   "id": "ecabceea-1db2-4d98-b3eb-1b54736c3dcb",
   "metadata": {},
   "outputs": [
    {
     "name": "stdout",
     "output_type": "stream",
     "text": [
      "root\n",
      " |-- value: string (nullable = true)\n",
      "\n"
     ]
    }
   ],
   "source": [
    "# now publish the word count result (word, count columns) to kafka topic \"word-counts\", publish as json format\n",
    "# {\"word\": \"kafka\", \"count\": 8}\n",
    "\n",
    "# F is alias for all functions, we can access col by F.col \n",
    "import pyspark.sql.functions as F\n",
    "\n",
    "# convert all the columns into json\n",
    "# * represent all columns ie word, count, \n",
    "# struct create a structure around word, count columns\n",
    "# to json convert structure to column\n",
    "# value is Kafka value part of message\n",
    "wordCountsToKafkaDf = wordCountsDf\\\n",
    "                    .selectExpr(\"to_json(struct(*)) as value\")\n",
    "\n",
    "wordCountsToKafkaDf.printSchema()"
   ]
  },
  {
   "cell_type": "code",
   "execution_count": 9,
   "id": "d863f4b8-685c-4bbc-b47e-8bf95e720a73",
   "metadata": {},
   "outputs": [
    {
     "data": {
      "text/plain": [
       "<pyspark.sql.streaming.StreamingQuery at 0x1deb66951c8>"
      ]
     },
     "execution_count": 9,
     "metadata": {},
     "output_type": "execute_result"
    }
   ],
   "source": [
    "# checkpointLocation is for storing local state, for system restart, system failure in between\n",
    "# ensure to run kafka console consumer for topic word-count, commands are present in top of file\n",
    "wordCountsToKafkaDf.writeStream.format(\"kafka\")\\\n",
    "                    .outputMode(\"complete\")\\\n",
    "                     .option(\"kafka.bootstrap.servers\", \"localhost:9092\")\\\n",
    "                    .option(\"topic\", \"word-counts\")\\\n",
    "                    .option(\"checkpointLocation\", \"file:///tmp/spark\")\\\n",
    "                    .start()\n",
    "                    "
   ]
  },
  {
   "cell_type": "code",
   "execution_count": null,
   "id": "8d038bb6-e04d-4113-9668-4e025f04b685",
   "metadata": {},
   "outputs": [],
   "source": []
  }
 ],
 "metadata": {
  "kernelspec": {
   "display_name": "Python 3 (ipykernel)",
   "language": "python",
   "name": "python3"
  },
  "language_info": {
   "codemirror_mode": {
    "name": "ipython",
    "version": 3
   },
   "file_extension": ".py",
   "mimetype": "text/x-python",
   "name": "python",
   "nbconvert_exporter": "python",
   "pygments_lexer": "ipython3",
   "version": "3.7.10"
  }
 },
 "nbformat": 4,
 "nbformat_minor": 5
}
