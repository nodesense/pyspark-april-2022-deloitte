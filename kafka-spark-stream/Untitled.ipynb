{
 "cells": [
  {
   "cell_type": "code",
   "execution_count": 1,
   "id": "5200806f-ed7d-45b9-a7d9-2f67224523c0",
   "metadata": {},
   "outputs": [],
   "source": [
    "import os\n",
    "\n",
    "\n",
    "\n",
    "SCALA_VERSION = '2.11'\n",
    "SPARK_VERSION = '2.4.7'\n",
    "\n",
    "os.environ['PYSPARK_SUBMIT_ARGS'] = f'--packages org.apache.spark:spark-sql-kafka-0-10_{SCALA_VERSION}:{SPARK_VERSION} pyspark-shell'\n",
    "\n",
    "\n",
    "import findspark\n",
    "findspark.init()\n",
    "\n",
    "import pyspark"
   ]
  },
  {
   "cell_type": "code",
   "execution_count": 2,
   "id": "f83c2e4f-1cbb-410a-8204-c04d3b2bb2f6",
   "metadata": {},
   "outputs": [],
   "source": [
    "from pyspark.sql import SparkSession\n",
    "spark = SparkSession.builder.master(\"local[*]\")\\\n",
    "                            .config('spark.sql.shuffle.partitions', 4)\\\n",
    "                            .appName(\"SparkStreamingKafkaInvoiceStream\").getOrCreate()"
   ]
  },
  {
   "cell_type": "code",
   "execution_count": 3,
   "id": "c2d8491b-4cbe-4b8b-a408-a2ac18e5dc26",
   "metadata": {},
   "outputs": [
    {
     "data": {
      "text/html": [
       "\n",
       "            <div>\n",
       "                <p><b>SparkSession - in-memory</b></p>\n",
       "                \n",
       "        <div>\n",
       "            <p><b>SparkContext</b></p>\n",
       "\n",
       "            <p><a href=\"http://WIN-87IQT5UIE9A:4041\">Spark UI</a></p>\n",
       "\n",
       "            <dl>\n",
       "              <dt>Version</dt>\n",
       "                <dd><code>v2.4.7</code></dd>\n",
       "              <dt>Master</dt>\n",
       "                <dd><code>local[*]</code></dd>\n",
       "              <dt>AppName</dt>\n",
       "                <dd><code>SparkStreamingKafkaInvoiceStream</code></dd>\n",
       "            </dl>\n",
       "        </div>\n",
       "        \n",
       "            </div>\n",
       "        "
      ],
      "text/plain": [
       "<pyspark.sql.session.SparkSession at 0x21382388e88>"
      ]
     },
     "execution_count": 3,
     "metadata": {},
     "output_type": "execute_result"
    }
   ],
   "source": [
    "spark"
   ]
  },
  {
   "cell_type": "code",
   "execution_count": 4,
   "id": "4b165c69-5b19-4df8-9223-ca93322fba54",
   "metadata": {},
   "outputs": [],
   "source": [
    "\n",
    "\n",
    "# read from kafka, here spark is consumer for kafka topic called invoices\n",
    "# spark streaming works as dataframe/sql\n",
    "kafkaDf = spark.readStream.format(\"kafka\")\\\n",
    "  .option(\"kafka.bootstrap.servers\", \"localhost:9092\")\\\n",
    "  .option(\"subscribe\", \"invoices2\")\\\n",
    "  .option(\"group.id\",\"invoice-group\")\\\n",
    "  .load()"
   ]
  },
  {
   "cell_type": "code",
   "execution_count": 5,
   "id": "60a00a2b-17b8-4e01-9e89-cf80ba3c694f",
   "metadata": {},
   "outputs": [
    {
     "name": "stdout",
     "output_type": "stream",
     "text": [
      "root\n",
      " |-- key: binary (nullable = true)\n",
      " |-- value: binary (nullable = true)\n",
      " |-- topic: string (nullable = true)\n",
      " |-- partition: integer (nullable = true)\n",
      " |-- offset: long (nullable = true)\n",
      " |-- timestamp: timestamp (nullable = true)\n",
      " |-- timestampType: integer (nullable = true)\n",
      "\n"
     ]
    }
   ],
   "source": [
    "# print kafka stream for topic\n",
    "kafkaDf.printSchema()"
   ]
  },
  {
   "cell_type": "code",
   "execution_count": 6,
   "id": "b6976938-ca67-4841-b3e0-c27773809b12",
   "metadata": {},
   "outputs": [
    {
     "name": "stdout",
     "output_type": "stream",
     "text": [
      "root\n",
      " |-- timestamp: timestamp (nullable = true)\n",
      " |-- value: string (nullable = true)\n",
      "\n"
     ]
    }
   ],
   "source": [
    "invoiceJsonRawDf = kafkaDf.selectExpr(\"timestamp\", \"CAST(value AS STRING)\")\n",
    "invoiceJsonRawDf.printSchema() # we get only value as string\n"
   ]
  },
  {
   "cell_type": "code",
   "execution_count": 7,
   "id": "f561b5b7-7915-4209-9504-cf3dacfe0bac",
   "metadata": {},
   "outputs": [],
   "source": [
    "\n",
    "import pyspark.sql.functions as F\n",
    "from pyspark.sql.types import StructField, StructType, IntegerType, StringType, DoubleType, DateType\n",
    "# json is object, spark DF needs schema \n",
    "\n",
    "schema = StructType(\n",
    "        [\n",
    "            StructField(\"InvoiceNo\", IntegerType(), True),\n",
    "            StructField(\"StockCode\", StringType(), True),\n",
    "            StructField(\"Quantity\", IntegerType(), True),\n",
    "            StructField(\"Description\", StringType(), True),\n",
    "            StructField(\"InvoiceDate\", StringType(), True),\n",
    "            #StructField(\"InvoiceDate\", DateType(), True),\n",
    "            StructField(\"UnitPrice\", DoubleType(), True),\n",
    "            StructField(\"CustomerID\", IntegerType(), True),\n",
    "            StructField(\"Country\", StringType(), True),\n",
    "        ]\n",
    ")\n"
   ]
  },
  {
   "cell_type": "code",
   "execution_count": 8,
   "id": "d0a57ce6-334c-436a-9119-5d1748c1164c",
   "metadata": {},
   "outputs": [
    {
     "name": "stdout",
     "output_type": "stream",
     "text": [
      "root\n",
      " |-- timestamp: timestamp (nullable = true)\n",
      " |-- value: struct (nullable = true)\n",
      " |    |-- InvoiceNo: integer (nullable = true)\n",
      " |    |-- StockCode: string (nullable = true)\n",
      " |    |-- Quantity: integer (nullable = true)\n",
      " |    |-- Description: string (nullable = true)\n",
      " |    |-- InvoiceDate: string (nullable = true)\n",
      " |    |-- UnitPrice: double (nullable = true)\n",
      " |    |-- CustomerID: integer (nullable = true)\n",
      " |    |-- Country: string (nullable = true)\n",
      "\n"
     ]
    }
   ],
   "source": [
    "jsonDf = invoiceJsonRawDf.withColumn(\"value\", F.from_json(\"value\", schema))\n",
    "jsonDf.printSchema()"
   ]
  },
  {
   "cell_type": "code",
   "execution_count": 9,
   "id": "773edd83-1451-4b6a-86d4-20e5470586e9",
   "metadata": {},
   "outputs": [
    {
     "name": "stdout",
     "output_type": "stream",
     "text": [
      "root\n",
      " |-- timestamp: timestamp (nullable = true)\n",
      " |-- InvoiceNo: integer (nullable = true)\n",
      " |-- StockCode: string (nullable = true)\n",
      " |-- Quantity: integer (nullable = true)\n",
      " |-- Description: string (nullable = true)\n",
      " |-- InvoiceDate: string (nullable = true)\n",
      " |-- UnitPrice: double (nullable = true)\n",
      " |-- CustomerID: integer (nullable = true)\n",
      " |-- Country: string (nullable = true)\n",
      "\n"
     ]
    }
   ],
   "source": [
    "# now we will extract value which struct type ewith all schema field mention, to specific columns\n",
    "#InvoiceNo, StockCode, ....\n",
    "invoiceDf = jsonDf.select(\"timestamp\", F.col(\"value.*\"))\n",
    "invoiceDf.printSchema()"
   ]
  },
  {
   "cell_type": "code",
   "execution_count": 10,
   "id": "43c88f6d-ac60-462d-b00c-bc92327c89ce",
   "metadata": {},
   "outputs": [
    {
     "name": "stdout",
     "output_type": "stream",
     "text": [
      "root\n",
      " |-- timestamp: timestamp (nullable = true)\n",
      " |-- InvoiceNo: integer (nullable = true)\n",
      " |-- StockCode: string (nullable = true)\n",
      " |-- Quantity: integer (nullable = true)\n",
      " |-- Description: string (nullable = true)\n",
      " |-- InvoiceDate: string (nullable = true)\n",
      " |-- UnitPrice: double (nullable = true)\n",
      " |-- CustomerID: integer (nullable = true)\n",
      " |-- Country: string (nullable = true)\n",
      " |-- Amount: double (nullable = true)\n",
      "\n"
     ]
    }
   ],
   "source": [
    "# Give me how much money generated selling goods for last 60 seconds/1 minutes\n",
    "invoiceDf = invoiceDf.withColumn(\"Amount\", F.col(\"Quantity\") * F.col(\"UnitPrice\") )\n",
    "invoiceDf.printSchema() "
   ]
  },
  {
   "cell_type": "code",
   "execution_count": 11,
   "id": "72ff9dd5-9808-4d25-960c-85791a2e6b0a",
   "metadata": {},
   "outputs": [
    {
     "name": "stdout",
     "output_type": "stream",
     "text": [
      "root\n",
      " |-- value: string (nullable = true)\n",
      "\n"
     ]
    }
   ],
   "source": [
    "\n",
    "windowedAmountSum = invoiceDf.groupBy(\"Country\", F.window(invoiceDf.timestamp, \n",
    "                                              \"60 seconds\", \n",
    "                                               \"60 seconds\"))\\\n",
    "                              .agg(F.sum(\"Amount\").alias(\"TotalAmount\"))\\\n",
    "                              .selectExpr(\"to_json(struct(*)) AS value\")\\\n",
    "                              .selectExpr(\"CAST(value AS STRING)\")\n",
    "windowedAmountSum.printSchema()"
   ]
  },
  {
   "cell_type": "code",
   "execution_count": 12,
   "id": "415aae67-9a1b-4f7e-8221-3ccea5a3d2c1",
   "metadata": {},
   "outputs": [],
   "source": [
    "\n",
    "echoOnconsole = windowedAmountSum\\\n",
    "                .writeStream\\\n",
    "                .outputMode(\"complete\")\\\n",
    "                .option(\"truncate\", False)\\\n",
    "                .format(\"console\")\\\n",
    "                .start() # start the query. spark will subscribe for data\n"
   ]
  },
  {
   "cell_type": "code",
   "execution_count": 13,
   "id": "6a3f0096-ef9b-41be-a225-ee64932d4c45",
   "metadata": {},
   "outputs": [
    {
     "data": {
      "text/plain": [
       "<pyspark.sql.streaming.StreamingQuery at 0x21382447908>"
      ]
     },
     "execution_count": 13,
     "metadata": {},
     "output_type": "execute_result"
    }
   ],
   "source": [
    "\n",
    "windowedAmountSum \\\n",
    "    .writeStream \\\n",
    "    .format(\"kafka\") \\\n",
    "    .outputMode(\"complete\") \\\n",
    "    .option(\"kafka.bootstrap.servers\", \"localhost:9092\") \\\n",
    "    .option(\"topic\", \"aggregated-invoices\") \\\n",
    "    .option(\"checkpointLocation\", \"file:///c:/spark/temp56\") \\\n",
    "    .start()"
   ]
  },
  {
   "cell_type": "code",
   "execution_count": null,
   "id": "aff216e2-fad9-412c-901a-94d8203e3c7b",
   "metadata": {},
   "outputs": [],
   "source": []
  }
 ],
 "metadata": {
  "kernelspec": {
   "display_name": "Python 3 (ipykernel)",
   "language": "python",
   "name": "python3"
  },
  "language_info": {
   "codemirror_mode": {
    "name": "ipython",
    "version": 3
   },
   "file_extension": ".py",
   "mimetype": "text/x-python",
   "name": "python",
   "nbconvert_exporter": "python",
   "pygments_lexer": "ipython3",
   "version": "3.7.10"
  }
 },
 "nbformat": 4,
 "nbformat_minor": 5
}
